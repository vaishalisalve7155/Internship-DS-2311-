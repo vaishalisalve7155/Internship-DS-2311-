{
 "cells": [
  {
   "cell_type": "markdown",
   "id": "644fa29e",
   "metadata": {},
   "source": [
    "# Student Grade Prediction Project"
   ]
  },
  {
   "cell_type": "markdown",
   "id": "9e3bd7b6",
   "metadata": {},
   "source": [
    "# STEP 1:"
   ]
  },
  {
   "cell_type": "markdown",
   "id": "62dbe470",
   "metadata": {},
   "source": [
    "# Data Collection and Exploration"
   ]
  },
  {
   "cell_type": "markdown",
   "id": "b456c939",
   "metadata": {},
   "source": [
    "This is the step where we have to collect the data required. As in our project we get the dataset from kaggle(https://www.kaggle.com/datasets/dipam7/student-grade-prediction)\n",
    "\n",
    "Also in this step we will explore data to get insight and use visualizations as well if needed to understand data"
   ]
  },
  {
   "cell_type": "code",
   "execution_count": null,
   "id": "ecace163",
   "metadata": {},
   "outputs": [],
   "source": [
    "rom google.colab import drive\n",
    "drive.mount('/content/gdrive')"
   ]
  },
  {
   "cell_type": "markdown",
   "id": "e8292406",
   "metadata": {},
   "source": [
    "Drive already mounted at /content/gdrive; to attempt to forcibly remount, call drive.mount(\"/content/gdrive\", force_remount=True)."
   ]
  },
  {
   "cell_type": "markdown",
   "id": "223cc077",
   "metadata": {},
   "source": [
    "# Data Collection"
   ]
  },
  {
   "cell_type": "code",
   "execution_count": null,
   "id": "413ea0d2",
   "metadata": {},
   "outputs": [],
   "source": [
    "\n",
    "import numpy as np\n",
    "import pandas as pd\n",
    "from sklearn.linear_model import LinearRegression\n",
    "from sklearn.utils import shuffle\n",
    "import seaborn as sns\n",
    "import matplotlib.pyplot as plt\n",
    "​\n",
    "df = pd.read_csv('/content/gdrive/MyDrive/Colab Notebooks/'+\"student.csv\")"
   ]
  },
  {
   "cell_type": "code",
   "execution_count": null,
   "id": "d63ef4f7",
   "metadata": {},
   "outputs": [],
   "source": [
    "   school   sex   age  address  famsize  Pstatus   Medu   Fedu    Mjob      Fjob       ...   feespaid    ecactivities   internet   freetime   goout   health   absences   G1   G2  G3\n",
    "0     GP      F    18    U       GT3       A        4      4      at_home    teacher    ...    no          no             no        3          4       3        6           5   6    6\n",
    "1     GP      F    17    U       GT3       T        1      1      at_home    other      ...    no          no             yes       3          3       3        4           5   5    6\n",
    "2     GP      F    15    U       LE3       T        1      1      at_home    other      ...    yes         no             yes       3          2       3        10          7   8    10\n",
    "3     GP      F    15    U       GT3       T        4      2      health     services   ...    yes         yes            yes       2          2       5        2           15  14   15\n",
    "4     GP      F    16    U       GT3       T        3      3      other      other      ...    yes         no             no        3          2       5        4           6   10   10\n",
    "...   ...   ...   ...   ...     ...       ...      ...    ...      ...        ...       ...    ...         ...           ...       ...        ...     ...      ...         ...  ...  ...\n",
    "390   MS      M    20    U       LE3       A        2      1      services   services   ...    yes         no             no        5          4       4        11          9    9    9\n",
    "391   MS      M    17    U       LE3       T        3      1      services   services   ...    no          no             yes       4          5       2        3           14   16   16\n",
    "392   MS      M    21    R       GT3       T        1      1      other      other      ...    no          no             no        5          3       3        3           10   8    7\n",
    "393   MS      M    18    R       LE3       T        3      2      services   other      ...    no          no             yes       4          1       5        0           11   12   10\n",
    "394   MS      M    19    U       LE3       T        1      1      other      at_home    ...    no          no             yes       2          3       5        5           8    9    9\n",
    "395 rows × 26 columns"
   ]
  },
  {
   "cell_type": "markdown",
   "id": "0ea56e75",
   "metadata": {},
   "source": [
    "# Data Exploration"
   ]
  },
  {
   "cell_type": "code",
   "execution_count": null,
   "id": "2f45d821",
   "metadata": {},
   "outputs": [],
   "source": [
    "print('Total number of students: ',len(df))"
   ]
  },
  {
   "cell_type": "markdown",
   "id": "a24e30c6",
   "metadata": {},
   "source": [
    " Total number of students: 395"
   ]
  },
  {
   "cell_type": "code",
   "execution_count": null,
   "id": "8c0e8154",
   "metadata": {},
   "outputs": [],
   "source": [
    "print(\"Parameter are: \",df.columns)\n",
    "     "
   ]
  },
  {
   "cell_type": "code",
   "execution_count": null,
   "id": "c84148da",
   "metadata": {},
   "outputs": [],
   "source": [
    " Parameter are:  Index(['school', 'sex', 'age', 'address', 'famsize', 'Pstatus', 'Medu', 'Fedu',\n",
    "       'Mjob', 'Fjob', 'guardian', 'traveltime', 'studytime', 'failures',\n",
    "       'Ssupport', 'Gsupport', 'feespaid', 'ecactivities', 'internet',\n",
    "       'freetime', 'goout', 'health', 'absences', 'G1', 'G2', 'G3'],\n",
    "      dtype='object')"
   ]
  },
  {
   "cell_type": "code",
   "execution_count": null,
   "id": "50d9dab1",
   "metadata": {},
   "outputs": [],
   "source": [
    "df.info()"
   ]
  },
  {
   "cell_type": "code",
   "execution_count": null,
   "id": "17dde817",
   "metadata": {},
   "outputs": [],
   "source": [
    "<class 'pandas.core.frame.DataFrame'>\n",
    "RangeIndex: 395 entries, 0 to 394\n",
    "Data columns (total 26 columns):\n",
    " #   Column        Non-Null Count  Dtype \n",
    "---  ------        --------------  ----- \n",
    " 0   school        395 non-null    object\n",
    " 1   sex           395 non-null    object\n",
    " 2   age           395 non-null    int64 \n",
    " 3   address       395 non-null    object\n",
    " 4   famsize       395 non-null    object\n",
    " 5   Pstatus       395 non-null    object\n",
    " 6   Medu          395 non-null    int64 \n",
    " 7   Fedu          395 non-null    int64 \n",
    " 8   Mjob          395 non-null    object\n",
    " 9   Fjob          395 non-null    object\n",
    " 10  guardian      395 non-null    object\n",
    " 11  traveltime    395 non-null    int64 \n",
    " 12  studytime     395 non-null    int64 \n",
    " 13  failures      395 non-null    int64 \n",
    " 14  Ssupport      395 non-null    object\n",
    " 15  Gsupport      395 non-null    object\n",
    " 16  feespaid      395 non-null    object\n",
    " 17  ecactivities  395 non-null    object\n",
    " 18  internet      395 non-null    object\n",
    " 19  freetime      395 non-null    int64 \n",
    " 20  goout         395 non-null    int64 \n",
    " 21  health        395 non-null    int64 \n",
    " 22  absences      395 non-null    int64 \n",
    " 23  G1            395 non-null    int64 \n",
    " 24  G2            395 non-null    int64 \n",
    " 25  G3            395 non-null    int64 \n",
    "dtypes: int64(13), object(13)\n",
    "memory usage: 80.4+ KB"
   ]
  },
  {
   "cell_type": "code",
   "execution_count": null,
   "id": "47100e48",
   "metadata": {},
   "outputs": [],
   "source": [
    "df.describe()"
   ]
  },
  {
   "cell_type": "code",
   "execution_count": null,
   "id": "868c2da5",
   "metadata": {},
   "outputs": [],
   "source": [
    "       age           Medu Fedu    traveltime    studytime     failures     freetime       goout        health        absences       G1           G2             G3\n",
    "count    395.000000    395.000000   395.000000    395.000000    395.000000   0.395.000000   395.000000   395.000000    395.000000    395.000000    395.000000    395.000000\n",
    "mean     16.696203     2.749367     2.521519      1.448101      2.035443     0.334177       3.235443     3.108861      3.554430      5.708861      10.908861     10.415190\n",
    "std      1.276043      1.094735     1.088201      0.697505      0.839240     0.743651       0.998862     1.113278      1.390303      8.003096      3.319195       4.581443\n",
    "min      15.000000     0.000000     0.000000      1.000000      1.000000     0.000000       1.000000     1.000000      1.000000      0.000000      3.000000       0.000000\n",
    "25%      16.000000     2.000000     2.000000      1.000000      1.000000     0.000000       3.000000     2.000000      3.000000      0.000000      8.000000       8.000000\n",
    "50%      17.000000     3.000000     2.000000      1.000000      2.000000     0.000000       3.000000     3.000000      4.000000      4.000000      11.000000      11.000000\n",
    "75%      18.000000     4.000000     3.000000      2.000000      2.000000     0.000000       4.000000     4.000000      5.000000      8.000000      13.000000      14.000000\n",
    "max      22.000000     4.000000     4.000000      4.000000      4.000000     3.000000       5.000000     5.000000      5.000000      75.000000     19.000000      20.000000"
   ]
  },
  {
   "cell_type": "code",
   "execution_count": null,
   "id": "4cc37029",
   "metadata": {},
   "outputs": [],
   "source": [
    "df['G3'].describe()"
   ]
  },
  {
   "cell_type": "code",
   "execution_count": null,
   "id": "fe806a1d",
   "metadata": {},
   "outputs": [],
   "source": [
    "count    395.000000\n",
    "mean      10.415190\n",
    "std        4.581443\n",
    "min        0.000000\n",
    "25%        8.000000\n",
    "50%       11.000000\n",
    "75%       14.000000\n",
    "max       20.000000\n",
    "Name: G3, dtype: float64"
   ]
  },
  {
   "cell_type": "code",
   "execution_count": null,
   "id": "cc4f145b",
   "metadata": {},
   "outputs": [],
   "source": [
    "plt.figure(figsize=(10, 8))\n",
    "correlation_matrix = df.corr()\n",
    "sns.heatmap(correlation_matrix, annot=True, cmap='coolwarm')\n",
    "plt.title('Correlation Heatmap')\n",
    "plt.show()"
   ]
  },
  {
   "cell_type": "code",
   "execution_count": null,
   "id": "98223f9c",
   "metadata": {},
   "outputs": [],
   "source": [
    "<ipython-input-8-6688a53f2a0d>:2: FutureWarning: The default value of numeric_only in DataFrame.corr is deprecated. In a future version, it will default to False. Select only valid columns or specify the value of numeric_only to silence this warning.\n",
    "  correlation_matrix = df.corr()"
   ]
  },
  {
   "cell_type": "markdown",
   "id": "ad35bc1e",
   "metadata": {},
   "source": [
    "# correlation heatmap"
   ]
  },
  {
   "cell_type": "code",
   "execution_count": null,
   "id": "2fb5991c",
   "metadata": {},
   "outputs": [],
   "source": [
    "import seaborn as sns\n",
    "import matplotlib.pyplot as plt\n",
    "​\n",
    "# Calculate the correlation matrix\n",
    "correlation_matrix = df.corr()\n",
    "​\n",
    "# Plot the heatmap\n",
    "plt.figure(figsize=(10, 8))\n",
    "sns.heatmap(correlation_matrix, annot=True, cmap='coolwarm', fmt=\".2f\", linewidths=.5)\n",
    "plt.title('Correlation Heatmap')\n",
    "plt.show()"
   ]
  },
  {
   "cell_type": "markdown",
   "id": "5fb6f32b",
   "metadata": {},
   "source": [
    "# In this code:\n",
    "\n",
    "We calculate the correlation matrix using the corr method on the DataFrame df. We use Seaborn's heatmap function to create the heatmap, specifying parameters such as annotation (annot=True), colormap (cmap='coolwarm'), format of the annotations (fmt=\".2f\" for two decimal places), and linewidths. Finally, we set the title and display the heatmap. This heatmap will visualize the pairwise correlations between the features in your DataFrame df, with annotations showing the correlation coefficients. You can adjust the figure size, colormap, and other parameters as needed for better visualization."
   ]
  },
  {
   "cell_type": "code",
   "execution_count": null,
   "id": "589e5582",
   "metadata": {},
   "outputs": [],
   "source": [
    "sns.countplot(x=\"age\",data=df)"
   ]
  },
  {
   "cell_type": "code",
   "execution_count": null,
   "id": "c1ac897e",
   "metadata": {},
   "outputs": [],
   "source": [
    "<Axes: xlabel='age', ylabel='count'>"
   ]
  },
  {
   "cell_type": "code",
   "execution_count": null,
   "id": "7f628c72",
   "metadata": {},
   "outputs": [],
   "source": [
    "import seaborn as sns\n",
    "import matplotlib.pyplot as plt\n",
    "​\n",
    "# Assuming 'df' is your DataFrame containing the data\n",
    "plt.figure(figsize=(10, 6))\n",
    "sns.countplot(x=\"age\", data=df)\n",
    "plt.title('Countplot of Age')\n",
    "plt.xlabel('Age')\n",
    "plt.ylabel('Count')\n",
    "plt.show()"
   ]
  },
  {
   "cell_type": "markdown",
   "id": "8089896c",
   "metadata": {},
   "source": [
    "# In this code:\n",
    "\n",
    "We import seaborn as sns and matplotlib.pyplot as plt. We use sns.countplot() to create the countplot, specifying the column \"age\" as the x-axis variable and the DataFrame df as the data source. We set the figure size, title, and labels for the axes. Finally, we display the plot using plt.show(). This countplot will show the distribution of observations across different age categories. Adjust the figure size and other parameters as needed for better visualization."
   ]
  },
  {
   "cell_type": "code",
   "execution_count": null,
   "id": "f88c4c9c",
   "metadata": {},
   "outputs": [],
   "source": [
    "df['G3'].describe()\n"
   ]
  },
  {
   "cell_type": "code",
   "execution_count": null,
   "id": "fecc7619",
   "metadata": {},
   "outputs": [],
   "source": [
    "count    395.000000\n",
    "mean      10.415190\n",
    "std        4.581443\n",
    "min        0.000000\n",
    "25%        8.000000\n",
    "50%       11.000000\n",
    "75%       14.000000\n",
    "max       20.000000\n",
    "Name: G3, dtype: float64"
   ]
  },
  {
   "cell_type": "markdown",
   "id": "036989ac",
   "metadata": {},
   "source": [
    "# STEP 3:"
   ]
  },
  {
   "cell_type": "markdown",
   "id": "ae2ce0d9",
   "metadata": {},
   "source": [
    "# Data Preprocessing"
   ]
  },
  {
   "cell_type": "markdown",
   "id": "282b6b0d",
   "metadata": {},
   "source": [
    " In this step we will perform task as handling missing values and encode catagorical data"
   ]
  },
  {
   "cell_type": "markdown",
   "id": "1683fbee",
   "metadata": {},
   "source": [
    "# Handling missing values"
   ]
  },
  {
   "cell_type": "code",
   "execution_count": null,
   "id": "48e23fba",
   "metadata": {},
   "outputs": [],
   "source": [
    "df=df.dropna()\n",
    "print((df.isnull()).sum())\n",
    "     "
   ]
  },
  {
   "cell_type": "code",
   "execution_count": null,
   "id": "11edd5ff",
   "metadata": {},
   "outputs": [],
   "source": [
    "school          0\n",
    "sex             0\n",
    "age             0\n",
    "address         0\n",
    "famsize         0\n",
    "Pstatus         0\n",
    "Medu            0\n",
    "Fedu            0\n",
    "Mjob            0\n",
    "Fjob            0\n",
    "guardian        0\n",
    "traveltime      0\n",
    "studytime       0\n",
    "failures        0\n",
    "Ssupport        0\n",
    "Gsupport        0\n",
    "feespaid        0\n",
    "ecactivities    0\n",
    "internet        0\n",
    "freetime        0\n",
    "goout           0\n",
    "health          0\n",
    "absences        0\n",
    "G1              0\n",
    "G2              0\n",
    "G3              0\n",
    "dtype: int64"
   ]
  },
  {
   "cell_type": "markdown",
   "id": "29fcf696",
   "metadata": {},
   "source": [
    "# Encoding catagorical variables"
   ]
  },
  {
   "cell_type": "code",
   "execution_count": null,
   "id": "60fe3743",
   "metadata": {},
   "outputs": [],
   "source": [
    "#from sklearn.preprocessing import LabelEncoder\n",
    "#le=LabelEncoder()\n",
    "#for col in df.columns:\n",
    "#  df[col]=le.fit_transform(df[col])\n",
    "     "
   ]
  },
  {
   "cell_type": "code",
   "execution_count": null,
   "id": "b739126d",
   "metadata": {},
   "outputs": [],
   "source": [
    "from sklearn.preprocessing import LabelEncoder\n",
    "le=LabelEncoder()\n",
    "df[\"internet\"]=le.fit_transform(df[\"internet\"])\n",
    "df[\"ecactivities\"]=le.fit_transform(df[\"ecactivities\"])\n",
    "df[\"feespaid\"]=le.fit_transform(df[\"feespaid\"])\n",
    "df[\"Gsupport\"]=le.fit_transform(df[\"Gsupport\"])\n",
    "df[\"Ssupport\"]=le.fit_transform(df[\"Ssupport\"])\n",
    "df[\"guardian\"]=le.fit_transform(df[\"guardian\"])\n",
    "df[\"Fjob\"]=le.fit_transform(df[\"Fjob\"])\n",
    "df[\"Mjob\"]=le.fit_transform(df[\"Mjob\"])\n",
    "df[\"Pstatus\"]=le.fit_transform(df[\"Pstatus\"])\n",
    "df[\"famsize\"]=le.fit_transform(df[\"famsize\"])\n",
    "df[\"address\"]=le.fit_transform(df[\"address\"])\n",
    "df[\"sex\"]=le.fit_transform(df[\"sex\"])\n",
    "df[\"school\"]=le.fit_transform(df[\"school\"])"
   ]
  },
  {
   "cell_type": "code",
   "execution_count": null,
   "id": "ad0d1a58",
   "metadata": {},
   "outputs": [],
   "source": [
    "df.head()"
   ]
  },
  {
   "cell_type": "code",
   "execution_count": null,
   "id": "b11ed2fc",
   "metadata": {},
   "outputs": [],
   "source": [
    "    school   sex   age  address  famsize   Pstatus    Medu   Fedu   Mjob   Fjob   ...   feespaid   ecactivities   internet   freetime   goout    health    absences   G1    G2  G3\n",
    "0    0       0     18   1         0         0         4      4      0      4      ...   0          1               0         3          4        3          6         5     6   6\n",
    "1    0       0     17   1         0         1         1      1      0      2      ...   0          0               1         3          3        3          4         5     5   6\n",
    "2    0       0     15   1         1         1         1      1      0      2      ...   1          0               1         3          2        3          10        7     8   10\n",
    "3    0       0     15   1         0         1         4      2      1      3      ...   1          1               1         2          2        5          2         15    14  15\n",
    "4    0       0     16   1         0         1         3      3      2      2      ...   1          0               0         3          2        5          4         6     10  10"
   ]
  },
  {
   "cell_type": "markdown",
   "id": "674f5516",
   "metadata": {},
   "source": [
    "# Finding Correlation between Attributes\n"
   ]
  },
  {
   "cell_type": "code",
   "execution_count": null,
   "id": "d8847840",
   "metadata": {},
   "outputs": [],
   "source": [
    "\n",
    "\n",
    "df.corr()['G3'].sort_values()"
   ]
  },
  {
   "cell_type": "code",
   "execution_count": null,
   "id": "000216c9",
   "metadata": {},
   "outputs": [],
   "source": [
    "failures       -0.360415\n",
    "age            -0.161579\n",
    "goout          -0.132791\n",
    "traveltime     -0.117142\n",
    "Ssupport       -0.082788\n",
    "guardian       -0.070109\n",
    "health         -0.061335\n",
    "Pstatus        -0.058009\n",
    "school         -0.045017\n",
    "Gsupport       -0.039157\n",
    "freetime        0.011307\n",
    "ecactivities    0.016100\n",
    "absences        0.034247\n",
    "Fjob            0.042286\n",
    "famsize         0.081407\n",
    "studytime       0.097820\n",
    "internet        0.098483\n",
    "feespaid        0.101996\n",
    "Mjob            0.102082\n",
    "sex             0.103456\n",
    "address         0.105756\n",
    "Fedu            0.152457\n",
    "Medu            0.217147\n",
    "G1              0.801468\n",
    "G2              0.904868\n",
    "G3              1.000000\n",
    "Name: G3, dtype: float64"
   ]
  },
  {
   "cell_type": "code",
   "execution_count": null,
   "id": "cbc2930d",
   "metadata": {},
   "outputs": [],
   "source": [
    "#df = df.drop(['school', 'G1', 'G2'], axis='columns')"
   ]
  },
  {
   "cell_type": "code",
   "execution_count": null,
   "id": "cea0f955",
   "metadata": {},
   "outputs": [],
   "source": [
    "most_correlated = df.corr().abs()['G3'].sort_values(ascending=False)\n",
    "most_correlated = most_correlated[:9]\n",
    "most_correlated"
   ]
  },
  {
   "cell_type": "code",
   "execution_count": null,
   "id": "ea45c848",
   "metadata": {},
   "outputs": [],
   "source": [
    "G3            1.000000\n",
    "G2            0.904868\n",
    "G1            0.801468\n",
    "failures      0.360415\n",
    "Medu          0.217147\n",
    "age           0.161579\n",
    "Fedu          0.152457\n",
    "goout         0.132791\n",
    "traveltime    0.117142\n",
    "Name: G3, dtype: float64"
   ]
  },
  {
   "cell_type": "code",
   "execution_count": null,
   "id": "08ee6cb7",
   "metadata": {},
   "outputs": [],
   "source": [
    "df = df.loc[:, most_correlated.index]\n",
    "df.head()"
   ]
  },
  {
   "cell_type": "code",
   "execution_count": null,
   "id": "32c738ee",
   "metadata": {},
   "outputs": [],
   "source": [
    "G3  G2  G1   failures   Medu   age   Fedu  goout   traveltime\n",
    "0   6   6    5          0       4    18    4       2\n",
    "1   6   5    5          0       1    17    1       3\n",
    "2   10  8    7          3       1    15    1       2\n",
    "3   15  14   15         0       4    15    2       2\n",
    "4   10  10   6          3       16   3     2       1\n"
   ]
  },
  {
   "cell_type": "markdown",
   "id": "0015e03b",
   "metadata": {},
   "source": [
    "# Data spliting"
   ]
  },
  {
   "cell_type": "markdown",
   "id": "d6deae6f",
   "metadata": {},
   "source": [
    " In this step we will split data in to testing and training data"
   ]
  },
  {
   "cell_type": "code",
   "execution_count": null,
   "id": "f45d193a",
   "metadata": {},
   "outputs": [],
   "source": [
    "from sklearn.model_selection import train_test_split\n",
    "X_train, X_test, y_train, y_test = train_test_split(df, df['G3'], test_size = 0.3, random_state=0)"
   ]
  },
  {
   "cell_type": "code",
   "execution_count": null,
   "id": "c4602a87",
   "metadata": {},
   "outputs": [],
   "source": [
    "X_train.head()"
   ]
  },
  {
   "cell_type": "code",
   "execution_count": null,
   "id": "3e4e1b92",
   "metadata": {},
   "outputs": [],
   "source": [
    "     G3   G2   G1   failures   Medu   age  Fedu  goout  traveltime\n",
    "22    16   15   15         0      4     16    2      1    1\n",
    "241   12   11   10         0      4     17    4      3    2\n",
    "122   13   13   13         0      2     16    4      2    2\n",
    "176   11   13   13         0      2     16    2      4    2\n",
    "162   0    0    7          1      1     16    2      4    2"
   ]
  },
  {
   "cell_type": "markdown",
   "id": "d447779d",
   "metadata": {},
   "source": [
    "# Model Selection and Model Training"
   ]
  },
  {
   "cell_type": "code",
   "execution_count": null,
   "id": "99a9b5ed",
   "metadata": {},
   "outputs": [],
   "source": [
    "\n",
    "print(lr.score(X_test, y_test))                 #Near to 1, good predicts target"
   ]
  },
  {
   "cell_type": "code",
   "execution_count": null,
   "id": "36353a26",
   "metadata": {},
   "outputs": [],
   "source": [
    "\n",
    "0.7826051367042399"
   ]
  },
  {
   "cell_type": "code",
   "execution_count": null,
   "id": "c28b788b",
   "metadata": {},
   "outputs": [],
   "source": [
    "predictions = lr.predict(X_test)"
   ]
  },
  {
   "cell_type": "code",
   "execution_count": null,
   "id": "9be82553",
   "metadata": {},
   "outputs": [],
   "source": [
    "plt.plot(y_test, predictions, 'o')\n",
    "m, b = np.polyfit(y_test,predictions, 1)\n",
    "plt.plot(y_test, m*y_test + b)\n",
    "plt.xlabel(\"Actual Grade\")\n",
    "plt.ylabel(\"Predicted Grade\")"
   ]
  },
  {
   "cell_type": "code",
   "execution_count": null,
   "id": "86a3ce7d",
   "metadata": {},
   "outputs": [],
   "source": [
    "\n",
    "Text(0, 0.5, 'Predicted Grade')"
   ]
  },
  {
   "cell_type": "code",
   "execution_count": null,
   "id": "65171557",
   "metadata": {},
   "outputs": [],
   "source": [
    "import seaborn as sns\n",
    "import matplotlib.pyplot as plt\n",
    "​\n",
    "# Assuming 'df' is your DataFrame containing the data\n",
    "plt.figure(figsize=(10, 6))\n",
    "sns.countplot(x=\"age\", data=df)\n",
    "plt.title('Countplot of Age')\n",
    "plt.xlabel('Age')\n",
    "plt.ylabel('Predicted Grade')  # Adding the label for the y-axis\n",
    "plt.show()"
   ]
  },
  {
   "cell_type": "markdown",
   "id": "cd1fa8ed",
   "metadata": {},
   "source": [
    "This will ensure that the y-axis label of your countplot is set to \"Predicted Grade\". Adjust the figure size and other parameters as needed."
   ]
  },
  {
   "cell_type": "code",
   "execution_count": null,
   "id": "ff69fe2f",
   "metadata": {},
   "outputs": [],
   "source": [
    "# User Input for Prediction\n",
    "user_input = {}  # Dictionary to store user inputs\n",
    "\n",
    "for col in df.columns:\n",
    "    if col != 'G3':\n",
    "        user_input[col] = int(input(f\"Enter value for {col}: \"))\n",
    "\n",
    "# Create a DataFrame for user input\n",
    "user_input_df = pd.DataFrame([user_input])\n",
    "\n",
    "# Make predictions on user input\n",
    "predicted_grade = lr.predict(user_input_df)\n",
    "\n",
    "print(\"Predicted Grade:\", predicted_grade[0])"
   ]
  },
  {
   "cell_type": "code",
   "execution_count": null,
   "id": "a2f5b69a",
   "metadata": {},
   "outputs": [],
   "source": [
    "Enter value for G2: 1\n",
    "Enter value for G1: 1\n",
    "Enter value for failures: 1\n",
    "Enter value for Medu: 1\n",
    "Enter value for age: 1\n",
    "Enter value for Fedu: 1\n",
    "Enter value for goout: 1\n",
    "Enter value for traveltime: 1\n",
    "Predicted Grade: 2.5510808920152153"
   ]
  },
  {
   "cell_type": "code",
   "execution_count": null,
   "id": "429f0edd",
   "metadata": {},
   "outputs": [],
   "source": [
    "\n",
    "df.head()"
   ]
  },
  {
   "cell_type": "code",
   "execution_count": null,
   "id": "bb29fd23",
   "metadata": {},
   "outputs": [],
   "source": [
    "   G3   G2   G1   failures   Medu   age   Fedu   goout  traveltime\n",
    "0   6    6    5    0          4     18     4      4      2\n",
    "1   6    5    5    0          1     17     1      3      1\n",
    "2   10   8    7    3          1     15     1      2      1\n",
    "3   15   14   15   0          4     15     2      2      1\n",
    "4   10   10   6    0          3     16     3      2      1\n",
    "​"
   ]
  },
  {
   "cell_type": "code",
   "execution_count": null,
   "id": "c7243b52",
   "metadata": {},
   "outputs": [],
   "source": []
  },
  {
   "cell_type": "code",
   "execution_count": null,
   "id": "080f77ba",
   "metadata": {},
   "outputs": [],
   "source": []
  }
 ],
 "metadata": {
  "kernelspec": {
   "display_name": "Python 3 (ipykernel)",
   "language": "python",
   "name": "python3"
  },
  "language_info": {
   "codemirror_mode": {
    "name": "ipython",
    "version": 3
   },
   "file_extension": ".py",
   "mimetype": "text/x-python",
   "name": "python",
   "nbconvert_exporter": "python",
   "pygments_lexer": "ipython3",
   "version": "3.10.9"
  }
 },
 "nbformat": 4,
 "nbformat_minor": 5
}
