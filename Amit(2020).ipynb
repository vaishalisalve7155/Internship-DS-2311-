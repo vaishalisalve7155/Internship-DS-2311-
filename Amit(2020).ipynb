{
  "nbformat": 4,
  "nbformat_minor": 0,
  "metadata": {
    "colab": {
      "provenance": [],
      "toc_visible": true
    },
    "kernelspec": {
      "name": "python3",
      "display_name": "Python 3"
    }
  },
  "cells": [
    {
      "cell_type": "markdown",
      "metadata": {
        "id": "yxoU_Sg1j6b0"
      },
      "source": [
        "# Causal Reasoning: Fundamentals and Machine Learning Applications"
      ]
    },
    {
      "cell_type": "markdown",
      "metadata": {
        "id": "j8WHIDgsktOQ"
      },
      "source": [
        "https://causalinference.gitlab.io/Causal-Reasoning-Fundamentals-and-Machine-Learning-Applications/"
      ]
    },
    {
      "cell_type": "markdown",
      "metadata": {
        "id": "jnqsp5lOktLa"
      },
      "source": [
        "This book is aimed at students and practitioners familiar with machine learning (ML) and data science. **Our goal** is\n",
        "- to provide an accessible introduction to causal reasoning and\n",
        "- its intersections with machine learning,\n",
        "\n",
        "with a particular focus on the challenges and opportunities brought about by large-scale computing systems acting as interventions in the world, ranging from online recommendation systems to healthcare decision support systems. We hope to provide a practical perspective to working on causal inference problems and a unified interpretation of methods from varied fields such as statistics, econometrics and computer science, drawn from our experience in applying these methods to online computing systems.\n",
        "\n",
        "接下来是讲述本书如何强调 Connection to Machine Learning, 除此之外，本书还有三个特色：\n",
        "- We present a unified view of causality frameworks\n",
        "- We make an explicit distinction between identification (causal) and estimation (statistical) methods.\n",
        "- Finally, we discuss the criticality of assumptions in any causal analysis and present practical ways to test the robustness of a causal estimate to violation of its assumptions."
      ]
    },
    {
      "cell_type": "markdown",
      "metadata": {
        "id": "6SnjrC2yktIV"
      },
      "source": [
        "## 书籍内容"
      ]
    },
    {
      "cell_type": "markdown",
      "metadata": {
        "id": "K_YaLdSTktDn"
      },
      "source": [
        "PART I. Introduction to Causal Reasoning\n",
        "\n",
        "We introduce the key concepts behind causal reasoning, organized by the 4 steps of modeling and assumptions; identification; estimation; and refutation. We focus this part on fundamental ideas and abstractions, using simplified examples to provide readers with useful intuitions.\n",
        "\n",
        "- Chapter 1: Introduction\n",
        "- Chapter 2: Causal Models, Assumptions and Identification\n",
        "- Chapter 3: Causal Estimation\n",
        "- Chapter 4: Refutation, Variations, and Sensitivity Analysis\n",
        "\n"
      ]
    },
    {
      "cell_type": "markdown",
      "metadata": {
        "id": "fxdX6Yneks_N"
      },
      "source": [
        "PART II. Methods and Practice\n",
        "\n",
        "We discuss deeper details of the methods and concepts introduced in Part I. We focus this part on mathematical details, common pitfalls and heuristics that are used in practice, using more detailed examples to provide readers with deeper experience and intuition.\n",
        "\n",
        "- Chapter 5. Identification\n",
        "- Chapter 6. Conditioning-based Methods\n",
        "- Chapter 7. Natural Experiments\n",
        "- Chapter 8. Validating and Refuting Assumptions in Practice\n",
        "- Chapter 9. Practical Considerations"
      ]
    },
    {
      "cell_type": "markdown",
      "metadata": {
        "id": "BylX6BRGks8C"
      },
      "source": [
        "Part III. Applications\n",
        "\n",
        "We discuss connections between causal inference and core applications in computer science, including experimentation and reinforcement learning; offline learning from logged data; challenges of robustness and generalizability of machine learned classifiers; and the important task of building interpretable and fair machine learning models. In each chapter, we provide a single in-depth example.\n",
        "\n",
        "- Chapter 10. Connections between Causality and Machine Learning\n",
        "- Chapter 11. Experimentation and Reinforcement Learning\n",
        "- Chapter 12. Learning from Logged Data\n",
        "- Chapter 13. Generalization in Classification and Prediction\n",
        "- Chapter 14. Machine Learning Explanations and Bias\n",
        "\n"
      ]
    },
    {
      "cell_type": "markdown",
      "metadata": {
        "id": "cGm3h_aIuTDd"
      },
      "source": [
        "## Ch1 Introduction\n",
        "\n",
        "1) 因果是什么？\n",
        "\n",
        "The issue is that “causality” itself is a nebulous concept. From Aristotle to Hume and Kant, many philosophers and scholars have attempted to define causality but have not reached a consensus so far.\n",
        "\n",
        "（举个例子说明为什么定义因果是很难的事情）To understand the difficulty, let us first ask you, the reader, to let go of this book and drop it on the floor—and then pick it up again and continue reading! Now, let us ask, what was the cause of the book dropping? Did the book fall because you let go of the book? Or did the book fall because we, the authors, asked you, the reader, to drop it? Perhaps you would have let go of the book even if we had not asked you to. Maybe it was gravity. Perhaps the book fell because the reader is not an astronaut reading the book in space.\n",
        "\n",
        "This simple example of the falling book illustrates many of the important, philosophical challenges that have vexed philosophers’ efforts to conceptualize causality. These include basic concepts of abstractions, as well as sufficient and necessary causes. E.g., gravity is of course necessary, but not sufficient, to cause the book to fall—gravity together with the reader letting go of the book is both necessary and sufficient for the book to fall. This example also illustrates both proximate and ultimate causes. E.g., the reader dropping the book is a proximate cause, the authors asking the reader to drop the book may be a more distant, ultimate cause. Finally, this example raises the question of whether causes must be deterministic. In other words, does the likelihood that not all (or even most) readers are suggestible enough to drop this book when asked imply that the authors’ request is not a cause at all? Or is it possible for our request to be considered a probabilistic cause?\n",
        "\n"
      ]
    },
    {
      "cell_type": "markdown",
      "metadata": {
        "id": "9JXwLGxLvOrJ"
      },
      "source": [
        "Hume asks how we know—how we learn—what causes an event? Consider the simple act of striking a match and observing that it lights up. Would we say that striking causes the match to light up? Believing in data, say we repeat this action 1000 times and observe the same outcome each time. Hume argues that, while this may seem to provide strong evidence that striking the match causes it to light, this specific experiment only demonstrates predictability, and argues that these results are indistinguishable from the case where the two events just happen to be perfectly correlated with each other. Hume proposed this quandary in his book, “A Treaties of Human Nature”, in 1738, and concludes that **causality must be a mental construct that we assign to the world**, and thus does not exist outside it. Other scholars challenge this provocation and argue for the existence of causality."
      ]
    },
    {
      "cell_type": "markdown",
      "metadata": {
        "id": "M7xSabPmvd6v"
      },
      "source": [
        "These philosophical challenges are essentially questions of abstraction. Modern advances in causal reasoning have not come through answering most of these provocations directly but, rather, by creating flexible methods for reasoning about the relationships between causes and effects regardless of the abstractions one chooses. In this book, therefore, we attempt to steer clear of the above philosophical ambiguities and adopt one of the more simple and practical approaches to causal reasoning, known as **the interventionist definition of causality.**"
      ]
    },
    {
      "cell_type": "code",
      "metadata": {
        "id": "yEKOQThtkr6x"
      },
      "source": [],
      "execution_count": null,
      "outputs": []
    }
  ]
}